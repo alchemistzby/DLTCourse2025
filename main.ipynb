{
 "cells": [
  {
   "cell_type": "code",
   "execution_count": 4,
   "metadata": {},
   "outputs": [],
   "source": [
    "import pandas as pd\n",
    "df = pd.read_pickle('./loss curves/gpt_loss+lrs.pkl')\n",
    "r811 = df['M:100M_gpt_D:20B_scheduler:811_rope']\n",
    "rwsd = df['M:100M_gpt_D:20B_scheduler:wsd_rope']\n",
    "rcos = df['M:100M_gpt_D:20B_scheduler:cosine_rope']"
   ]
  },
  {
   "cell_type": "code",
   "execution_count": null,
   "metadata": {},
   "outputs": [],
   "source": [
    "r811.plot(x='step',y='lr')\n",
    "r811.plot(x='step',y='Metrics/loss')"
   ]
  },
  {
   "cell_type": "code",
   "execution_count": null,
   "metadata": {},
   "outputs": [],
   "source": [
    "rwsd.plot(x='step',y='lr')\n",
    "rwsd.plot(x='step',y='Metrics/loss')"
   ]
  },
  {
   "cell_type": "code",
   "execution_count": null,
   "metadata": {},
   "outputs": [],
   "source": [
    "rcos.plot(x='step',y='lr')\n",
    "rcos.plot(x='step',y='Metrics/loss')"
   ]
  }
 ],
 "metadata": {
  "kernelspec": {
   "display_name": "zby",
   "language": "python",
   "name": "python3"
  },
  "language_info": {
   "codemirror_mode": {
    "name": "ipython",
    "version": 3
   },
   "file_extension": ".py",
   "mimetype": "text/x-python",
   "name": "python",
   "nbconvert_exporter": "python",
   "pygments_lexer": "ipython3",
   "version": "3.10.12"
  }
 },
 "nbformat": 4,
 "nbformat_minor": 2
}
